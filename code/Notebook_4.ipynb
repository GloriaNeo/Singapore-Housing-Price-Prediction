{
 "cells": [
  {
   "cell_type": "markdown",
   "id": "a8d35d42-431b-4334-8b1d-47248f09cf1c",
   "metadata": {},
   "source": [
    "<img src=\"http://imgur.com/1ZcRyrc.png\" style=\"float: left; margin: 20px; height: 55px\">\n",
    "\n",
    "# Project 2 - Singapore Housing Data and Kaggle Challenge - PART 4"
   ]
  },
  {
   "cell_type": "markdown",
   "id": "64b81d97-e382-4558-b942-5ddb3768dfd0",
   "metadata": {},
   "source": [
    "---\n",
    "# PART 4 - Test Set Transformations, Kaggle Export\n"
   ]
  },
  {
   "cell_type": "markdown",
   "id": "36818e8c-f473-4838-b9ff-adbf99ed20ae",
   "metadata": {},
   "source": [
    "## 4.1 Dealing with Test dataset"
   ]
  },
  {
   "cell_type": "markdown",
   "id": "2c79fbeb-0d86-49e3-ba36-d3143a54ea8f",
   "metadata": {},
   "source": [
    "Import required libraries:"
   ]
  },
  {
   "cell_type": "code",
   "execution_count": 1,
   "id": "7d01abb1-ce21-4054-99c4-43b3a85d9a2e",
   "metadata": {},
   "outputs": [],
   "source": [
    "import pandas as pd\n",
    "from scipy.stats import ttest_ind\n",
    "import numpy as np\n",
    "from sklearn import metrics\n",
    "from sklearn.preprocessing import OneHotEncoder\n",
    "from sklearn.metrics import r2_score, mean_squared_error\n",
    "from sklearn.preprocessing import StandardScaler\n",
    "from sklearn.linear_model import Ridge, Lasso, ElasticNet, LinearRegression, RidgeCV, LassoCV, ElasticNetCV\n",
    "from sklearn.model_selection import cross_val_score, train_test_split\n",
    "from sklearn.linear_model import RidgeCV\n",
    "from sklearn.linear_model import Ridge\n",
    "\n",
    "import seaborn               as sns\n",
    "import matplotlib.pyplot     as plt\n",
    "import matplotlib.ticker as mticker\n",
    "\n",
    "import statsmodels.api as sm\n",
    "import pickle\n",
    "import joblib\n",
    "\n",
    "%matplotlib inline"
   ]
  },
  {
   "cell_type": "code",
   "execution_count": 2,
   "id": "d419aa2a-1438-4571-9a00-b3c473e46876",
   "metadata": {},
   "outputs": [],
   "source": [
    "# Setting the print options to display full numbers (no scientific notation)\n",
    "pd.options.display.float_format = '{:.2f}'.format"
   ]
  },
  {
   "cell_type": "markdown",
   "id": "76c1bf7e-808d-4904-adf9-afb0e794db4b",
   "metadata": {},
   "source": [
    "Import test data sets:"
   ]
  },
  {
   "cell_type": "code",
   "execution_count": 3,
   "id": "58027a1b-5311-4de2-a952-ca3d6e250d5b",
   "metadata": {},
   "outputs": [],
   "source": [
    "test = pd.read_csv('./data/test.csv', low_memory=False)"
   ]
  },
  {
   "cell_type": "code",
   "execution_count": 4,
   "id": "b63abe48-1b8c-4635-b74a-b2ee830fc4e3",
   "metadata": {},
   "outputs": [
    {
     "name": "stdout",
     "output_type": "stream",
     "text": [
      "(16737, 76)\n"
     ]
    },
    {
     "data": {
      "text/html": [
       "<div>\n",
       "<style scoped>\n",
       "    .dataframe tbody tr th:only-of-type {\n",
       "        vertical-align: middle;\n",
       "    }\n",
       "\n",
       "    .dataframe tbody tr th {\n",
       "        vertical-align: top;\n",
       "    }\n",
       "\n",
       "    .dataframe thead th {\n",
       "        text-align: right;\n",
       "    }\n",
       "</style>\n",
       "<table border=\"1\" class=\"dataframe\">\n",
       "  <thead>\n",
       "    <tr style=\"text-align: right;\">\n",
       "      <th></th>\n",
       "      <th>id</th>\n",
       "      <th>Tranc_YearMonth</th>\n",
       "      <th>town</th>\n",
       "      <th>flat_type</th>\n",
       "      <th>block</th>\n",
       "      <th>street_name</th>\n",
       "      <th>storey_range</th>\n",
       "      <th>floor_area_sqm</th>\n",
       "      <th>flat_model</th>\n",
       "      <th>lease_commence_date</th>\n",
       "      <th>...</th>\n",
       "      <th>vacancy</th>\n",
       "      <th>pri_sch_affiliation</th>\n",
       "      <th>pri_sch_latitude</th>\n",
       "      <th>pri_sch_longitude</th>\n",
       "      <th>sec_sch_nearest_dist</th>\n",
       "      <th>sec_sch_name</th>\n",
       "      <th>cutoff_point</th>\n",
       "      <th>affiliation</th>\n",
       "      <th>sec_sch_latitude</th>\n",
       "      <th>sec_sch_longitude</th>\n",
       "    </tr>\n",
       "  </thead>\n",
       "  <tbody>\n",
       "    <tr>\n",
       "      <th>0</th>\n",
       "      <td>114982</td>\n",
       "      <td>2012-11</td>\n",
       "      <td>YISHUN</td>\n",
       "      <td>4 ROOM</td>\n",
       "      <td>173</td>\n",
       "      <td>YISHUN AVE 7</td>\n",
       "      <td>07 TO 09</td>\n",
       "      <td>84.00</td>\n",
       "      <td>Simplified</td>\n",
       "      <td>1987</td>\n",
       "      <td>...</td>\n",
       "      <td>92</td>\n",
       "      <td>0</td>\n",
       "      <td>1.43</td>\n",
       "      <td>103.83</td>\n",
       "      <td>156.32</td>\n",
       "      <td>Ahmad Ibrahim Secondary School</td>\n",
       "      <td>218</td>\n",
       "      <td>0</td>\n",
       "      <td>1.44</td>\n",
       "      <td>103.83</td>\n",
       "    </tr>\n",
       "    <tr>\n",
       "      <th>1</th>\n",
       "      <td>95653</td>\n",
       "      <td>2019-08</td>\n",
       "      <td>JURONG WEST</td>\n",
       "      <td>5 ROOM</td>\n",
       "      <td>986C</td>\n",
       "      <td>JURONG WEST ST 93</td>\n",
       "      <td>04 TO 06</td>\n",
       "      <td>112.00</td>\n",
       "      <td>Premium Apartment</td>\n",
       "      <td>2008</td>\n",
       "      <td>...</td>\n",
       "      <td>45</td>\n",
       "      <td>0</td>\n",
       "      <td>1.34</td>\n",
       "      <td>103.70</td>\n",
       "      <td>739.37</td>\n",
       "      <td>Jurong West Secondary School</td>\n",
       "      <td>199</td>\n",
       "      <td>0</td>\n",
       "      <td>1.34</td>\n",
       "      <td>103.70</td>\n",
       "    </tr>\n",
       "    <tr>\n",
       "      <th>2</th>\n",
       "      <td>40303</td>\n",
       "      <td>2013-10</td>\n",
       "      <td>ANG MO KIO</td>\n",
       "      <td>3 ROOM</td>\n",
       "      <td>534</td>\n",
       "      <td>ANG MO KIO AVE 10</td>\n",
       "      <td>07 TO 09</td>\n",
       "      <td>68.00</td>\n",
       "      <td>New Generation</td>\n",
       "      <td>1980</td>\n",
       "      <td>...</td>\n",
       "      <td>36</td>\n",
       "      <td>0</td>\n",
       "      <td>1.37</td>\n",
       "      <td>103.85</td>\n",
       "      <td>305.07</td>\n",
       "      <td>Anderson Secondary School</td>\n",
       "      <td>245</td>\n",
       "      <td>0</td>\n",
       "      <td>1.37</td>\n",
       "      <td>103.85</td>\n",
       "    </tr>\n",
       "    <tr>\n",
       "      <th>3</th>\n",
       "      <td>109506</td>\n",
       "      <td>2017-10</td>\n",
       "      <td>WOODLANDS</td>\n",
       "      <td>4 ROOM</td>\n",
       "      <td>29</td>\n",
       "      <td>MARSILING DR</td>\n",
       "      <td>01 TO 03</td>\n",
       "      <td>97.00</td>\n",
       "      <td>New Generation</td>\n",
       "      <td>1979</td>\n",
       "      <td>...</td>\n",
       "      <td>54</td>\n",
       "      <td>0</td>\n",
       "      <td>1.43</td>\n",
       "      <td>103.77</td>\n",
       "      <td>433.45</td>\n",
       "      <td>Woodlands Secondary School</td>\n",
       "      <td>188</td>\n",
       "      <td>0</td>\n",
       "      <td>1.44</td>\n",
       "      <td>103.77</td>\n",
       "    </tr>\n",
       "    <tr>\n",
       "      <th>4</th>\n",
       "      <td>100149</td>\n",
       "      <td>2016-08</td>\n",
       "      <td>BUKIT BATOK</td>\n",
       "      <td>4 ROOM</td>\n",
       "      <td>170</td>\n",
       "      <td>BT BATOK WEST AVE 8</td>\n",
       "      <td>16 TO 18</td>\n",
       "      <td>103.00</td>\n",
       "      <td>Model A</td>\n",
       "      <td>1985</td>\n",
       "      <td>...</td>\n",
       "      <td>40</td>\n",
       "      <td>0</td>\n",
       "      <td>1.35</td>\n",
       "      <td>103.74</td>\n",
       "      <td>217.30</td>\n",
       "      <td>Bukit Batok Secondary School</td>\n",
       "      <td>223</td>\n",
       "      <td>0</td>\n",
       "      <td>1.35</td>\n",
       "      <td>103.74</td>\n",
       "    </tr>\n",
       "  </tbody>\n",
       "</table>\n",
       "<p>5 rows × 76 columns</p>\n",
       "</div>"
      ],
      "text/plain": [
       "       id Tranc_YearMonth         town flat_type block          street_name  \\\n",
       "0  114982         2012-11       YISHUN    4 ROOM   173         YISHUN AVE 7   \n",
       "1   95653         2019-08  JURONG WEST    5 ROOM  986C    JURONG WEST ST 93   \n",
       "2   40303         2013-10   ANG MO KIO    3 ROOM   534    ANG MO KIO AVE 10   \n",
       "3  109506         2017-10    WOODLANDS    4 ROOM    29         MARSILING DR   \n",
       "4  100149         2016-08  BUKIT BATOK    4 ROOM   170  BT BATOK WEST AVE 8   \n",
       "\n",
       "  storey_range  floor_area_sqm         flat_model  lease_commence_date  ...  \\\n",
       "0     07 TO 09           84.00         Simplified                 1987  ...   \n",
       "1     04 TO 06          112.00  Premium Apartment                 2008  ...   \n",
       "2     07 TO 09           68.00     New Generation                 1980  ...   \n",
       "3     01 TO 03           97.00     New Generation                 1979  ...   \n",
       "4     16 TO 18          103.00            Model A                 1985  ...   \n",
       "\n",
       "   vacancy  pri_sch_affiliation  pri_sch_latitude  pri_sch_longitude  \\\n",
       "0       92                    0              1.43             103.83   \n",
       "1       45                    0              1.34             103.70   \n",
       "2       36                    0              1.37             103.85   \n",
       "3       54                    0              1.43             103.77   \n",
       "4       40                    0              1.35             103.74   \n",
       "\n",
       "   sec_sch_nearest_dist                    sec_sch_name cutoff_point  \\\n",
       "0                156.32  Ahmad Ibrahim Secondary School          218   \n",
       "1                739.37    Jurong West Secondary School          199   \n",
       "2                305.07       Anderson Secondary School          245   \n",
       "3                433.45      Woodlands Secondary School          188   \n",
       "4                217.30    Bukit Batok Secondary School          223   \n",
       "\n",
       "  affiliation  sec_sch_latitude  sec_sch_longitude  \n",
       "0           0              1.44             103.83  \n",
       "1           0              1.34             103.70  \n",
       "2           0              1.37             103.85  \n",
       "3           0              1.44             103.77  \n",
       "4           0              1.35             103.74  \n",
       "\n",
       "[5 rows x 76 columns]"
      ]
     },
     "execution_count": 4,
     "metadata": {},
     "output_type": "execute_result"
    }
   ],
   "source": [
    "print(test.shape)\n",
    "test.head()"
   ]
  },
  {
   "cell_type": "markdown",
   "id": "4227c270-d186-4483-9d13-568920e47962",
   "metadata": {},
   "source": [
    "---\n",
    "### 4.1.1 General data \"cleaning\"\n",
    "* Addressing potential nulls by filling with zero\n",
    "* Datatype conversion\n",
    "* Binary mapping\n",
    "* Apply snake case to column names"
   ]
  },
  {
   "cell_type": "markdown",
   "id": "1f8ec041-c300-4328-a20d-830de9a1817e",
   "metadata": {},
   "source": [
    "Since we cannot be sure of what null values and in which columns would they appear, drop all rows with nulls."
   ]
  },
  {
   "cell_type": "code",
   "execution_count": 5,
   "id": "db75da30-3105-4141-94cf-3927a080d132",
   "metadata": {},
   "outputs": [],
   "source": [
    "test.fillna(0, inplace=True)"
   ]
  },
  {
   "cell_type": "code",
   "execution_count": 6,
   "id": "3b29dc9b-441f-4a87-8f09-7b2d65a69660",
   "metadata": {},
   "outputs": [],
   "source": [
    "#convert tranc yearmonth to datetime dtype\n",
    "test['Tranc_YearMonth'] = pd.to_datetime(test['Tranc_YearMonth'], format='%Y-%m')"
   ]
  },
  {
   "cell_type": "code",
   "execution_count": 7,
   "id": "037f8128-cde1-441f-a31c-a6b0cda1cb5c",
   "metadata": {},
   "outputs": [],
   "source": [
    "#identify boolean columns which are not yet converted to 1/0s\n",
    "bool_col_test = test[['residential', 'commercial', 'market_hawker', 'multistorey_carpark', 'precinct_pavilion']]\n",
    "\n",
    "#map these columns from Y/N to 1/0\n",
    "for col in bool_col_test.columns:\n",
    "    test[col] = test[col].map({'Y': 1, 'N': 0})"
   ]
  },
  {
   "cell_type": "code",
   "execution_count": 8,
   "id": "8033fcd4-5234-48b3-8d2f-e3097ca00bc7",
   "metadata": {},
   "outputs": [],
   "source": [
    "#make column names snake_case\n",
    "test.columns = test.columns.str.lower()"
   ]
  },
  {
   "cell_type": "markdown",
   "id": "b384ceb0-5f41-4379-8a25-efc93eda975c",
   "metadata": {},
   "source": [
    "---\n",
    "### 4.1.2 Feature Selection\n",
    "* Numerical features\n",
    "* Categorical features\n",
    "* Merging numerical and categorical dataframe"
   ]
  },
  {
   "cell_type": "markdown",
   "id": "3dc061a4-7c1e-4907-abe4-7884ddbf8fa2",
   "metadata": {},
   "source": [
    "#### Numerical features"
   ]
  },
  {
   "cell_type": "markdown",
   "id": "e190d652-5cc5-411e-9880-4b1fda48c8c7",
   "metadata": {},
   "source": [
    "Extract numerical features:"
   ]
  },
  {
   "cell_type": "code",
   "execution_count": 9,
   "id": "62055974-61ed-4438-a58c-f4ff7fc48b30",
   "metadata": {},
   "outputs": [],
   "source": [
    "#Extract numerical features\n",
    "test_num = test.select_dtypes(include=['float64','int64'])"
   ]
  },
  {
   "cell_type": "markdown",
   "id": "663e1802-a01c-405d-af18-5de9aa6e22dc",
   "metadata": {},
   "source": [
    "Drop all columns dropped in train set:"
   ]
  },
  {
   "cell_type": "code",
   "execution_count": 10,
   "id": "fc8efd93-345d-45b4-8919-f71bc046c80a",
   "metadata": {},
   "outputs": [],
   "source": [
    "#drop columns\n",
    "test_num.drop(['id', 'residential',\n",
    "                'lower', 'upper', 'mid', 'latitude', 'longitude', 'mrt_latitude', 'mrt_longitude', 'bus_stop_latitude', 'bus_stop_longitude', 'pri_sch_latitude', \n",
    "                'pri_sch_longitude', 'sec_sch_latitude','sec_sch_longitude',\n",
    "               'id', 'residential', \n",
    "               'commercial', 'market_hawker', 'multistorey_carpark', 'precinct_pavilion',\n",
    "                       'bus_interchange', 'mrt_interchange', 'pri_sch_affiliation', 'affiliation',\n",
    "               'mall_within_500m', 'mall_within_1km', 'hawker_within_500m', 'hawker_within_1km',\n",
    "              'multigen_sold', '1room_rental', '3room_rental', 'other_room_rental',\n",
    "              'floor_area_sqft', 'year_completed', 'lease_commence_date'], axis=1, inplace=True)"
   ]
  },
  {
   "cell_type": "code",
   "execution_count": 11,
   "id": "56d071b4-53c4-4091-907a-670b5658a07e",
   "metadata": {},
   "outputs": [
    {
     "data": {
      "text/plain": [
       "(16737, 27)"
      ]
     },
     "execution_count": 11,
     "metadata": {},
     "output_type": "execute_result"
    }
   ],
   "source": [
    "test_num.shape"
   ]
  },
  {
   "cell_type": "markdown",
   "id": "25a515eb-25ec-4cf8-8dfc-40b976bd7642",
   "metadata": {},
   "source": [
    "---\n",
    "#### Categorical features"
   ]
  },
  {
   "cell_type": "markdown",
   "id": "b4cf90b4-eaf4-4acc-acc1-310248a3ec66",
   "metadata": {},
   "source": [
    "Extract categorical features (Exclude those dropped in trainset)"
   ]
  },
  {
   "cell_type": "code",
   "execution_count": 12,
   "id": "2966a741-2fcb-4071-b08b-92aea2817b70",
   "metadata": {},
   "outputs": [],
   "source": [
    "Cat_feat = ['town', 'street_name', 'full_flat_type', 'planning_area', 'mrt_name',\n",
    "       'pri_sch_name', 'sec_sch_name']\n",
    "\n",
    "Bin_feat = ['commercial', 'market_hawker', 'multistorey_carpark',\n",
    "       'precinct_pavilion', 'bus_interchange', 'mrt_interchange',\n",
    "       'pri_sch_affiliation', 'affiliation']"
   ]
  },
  {
   "cell_type": "code",
   "execution_count": 13,
   "id": "933989a5-87d5-4001-9551-6d9ea14a45c5",
   "metadata": {},
   "outputs": [],
   "source": [
    "columns_cat = Cat_feat + Bin_feat\n",
    "test_cat = test[columns_cat]"
   ]
  },
  {
   "cell_type": "code",
   "execution_count": 14,
   "id": "613b2c3e-3226-4b99-b2c8-62e188b65610",
   "metadata": {},
   "outputs": [
    {
     "data": {
      "text/plain": [
       "(16737, 15)"
      ]
     },
     "execution_count": 14,
     "metadata": {},
     "output_type": "execute_result"
    }
   ],
   "source": [
    "test_cat.shape"
   ]
  },
  {
   "cell_type": "markdown",
   "id": "15581ca0-84cc-4d86-a6e9-1f866eedb63f",
   "metadata": {},
   "source": [
    "Addressing planning area with <1000 value count:"
   ]
  },
  {
   "cell_type": "code",
   "execution_count": 15,
   "id": "86fcae82-2cb5-42cd-b52a-dac8ca9430db",
   "metadata": {},
   "outputs": [
    {
     "name": "stderr",
     "output_type": "stream",
     "text": [
      "C:\\Users\\glori\\AppData\\Local\\Temp\\ipykernel_864\\2285560018.py:7: SettingWithCopyWarning: \n",
      "A value is trying to be set on a copy of a slice from a DataFrame.\n",
      "Try using .loc[row_indexer,col_indexer] = value instead\n",
      "\n",
      "See the caveats in the documentation: https://pandas.pydata.org/pandas-docs/stable/user_guide/indexing.html#returning-a-view-versus-a-copy\n",
      "  test_cat['planning_area'] = test_cat['planning_area'].apply(lambda x: 'planning_area_others' if x in planning_area_below_1000 else x)\n"
     ]
    }
   ],
   "source": [
    "planning_area_count = test_cat['planning_area'].value_counts()\n",
    "\n",
    "#extract planning areas whose counts <1000\n",
    "planning_area_below_1000 = planning_area_count[planning_area_count<1000]\n",
    "\n",
    "# Converting planning areas <1000 to be planning_area_others\n",
    "test_cat['planning_area'] = test_cat['planning_area'].apply(lambda x: 'planning_area_others' if x in planning_area_below_1000 else x)"
   ]
  },
  {
   "cell_type": "markdown",
   "id": "11ff5d32-dc57-476f-a4c5-20eea3ab3a57",
   "metadata": {},
   "source": [
    "---\n",
    "### 4.1.3 Further data transformations\n",
    "* Scaling to Numerical features\n",
    "* OHE to Categorical features\n",
    "* Merge"
   ]
  },
  {
   "cell_type": "markdown",
   "id": "179d2ca5-13e0-48fc-a48b-81e657cc0a34",
   "metadata": {},
   "source": [
    "#### Scaling to numerical features"
   ]
  },
  {
   "cell_type": "markdown",
   "id": "fd9f347e-910f-4f02-b5e4-439cfa6e4967",
   "metadata": {},
   "source": [
    "Import train dataset to get training cat df to fit the standardscaler:"
   ]
  },
  {
   "cell_type": "code",
   "execution_count": 16,
   "id": "86f2be66-1663-4a8a-b3e3-bab531539d43",
   "metadata": {},
   "outputs": [],
   "source": [
    "train = pickle.load(open('./pkl/train_sel.pkl', 'rb'))"
   ]
  },
  {
   "cell_type": "code",
   "execution_count": 17,
   "id": "f06c4643-98f2-4270-b872-da32043fec97",
   "metadata": {},
   "outputs": [],
   "source": [
    "#define X predictor variables, and y target variable\n",
    "X = train.drop(columns='resale_price')\n",
    "y = train['resale_price']\n",
    "\n",
    "X_train, X_test, y_train, y_test = train_test_split(X, y, test_size=0.3, random_state=42)\n",
    "\n",
    "Cat_feat = ['town', 'street_name', 'full_flat_type', 'planning_area', 'mrt_name',\n",
    "       'pri_sch_name', 'sec_sch_name']\n",
    "\n",
    "Bin_feat = ['commercial', 'market_hawker', 'multistorey_carpark',\n",
    "       'precinct_pavilion', 'bus_interchange', 'mrt_interchange',\n",
    "       'pri_sch_affiliation', 'affiliation']\n",
    "\n",
    "# Drop cat values to get X_train_num\n",
    "columns_cat = Cat_feat + Bin_feat\n",
    "X_train_num = X_train.drop(columns=columns_cat, inplace=False)"
   ]
  },
  {
   "cell_type": "code",
   "execution_count": 18,
   "id": "ecf91359-2e5c-4988-a15b-8c1d1e765c00",
   "metadata": {},
   "outputs": [],
   "source": [
    "num_columns = test_num.columns.tolist()"
   ]
  },
  {
   "cell_type": "code",
   "execution_count": 19,
   "id": "aad60c5b-4c0d-40cf-bdbf-a6bd2b33876f",
   "metadata": {},
   "outputs": [],
   "source": [
    "ss = StandardScaler()\n",
    "\n",
    "# Fit the StandardScaler on the training data\n",
    "X_train_num[num_columns] = ss.fit_transform(X_train_num[num_columns])\n",
    "\n",
    "# Scale the numerical columns in the test_cat DataFrame using the fitted StandardScaler\n",
    "test_num[num_columns] = ss.transform(test_num[num_columns])"
   ]
  },
  {
   "cell_type": "code",
   "execution_count": 20,
   "id": "73e956c3-49b3-4828-8806-ff6ff3bfb6f5",
   "metadata": {},
   "outputs": [
    {
     "data": {
      "text/html": [
       "<div>\n",
       "<style scoped>\n",
       "    .dataframe tbody tr th:only-of-type {\n",
       "        vertical-align: middle;\n",
       "    }\n",
       "\n",
       "    .dataframe tbody tr th {\n",
       "        vertical-align: top;\n",
       "    }\n",
       "\n",
       "    .dataframe thead th {\n",
       "        text-align: right;\n",
       "    }\n",
       "</style>\n",
       "<table border=\"1\" class=\"dataframe\">\n",
       "  <thead>\n",
       "    <tr style=\"text-align: right;\">\n",
       "      <th></th>\n",
       "      <th>floor_area_sqm</th>\n",
       "      <th>tranc_year</th>\n",
       "      <th>tranc_month</th>\n",
       "      <th>mid_storey</th>\n",
       "      <th>hdb_age</th>\n",
       "      <th>max_floor_lvl</th>\n",
       "      <th>total_dwelling_units</th>\n",
       "      <th>1room_sold</th>\n",
       "      <th>2room_sold</th>\n",
       "      <th>3room_sold</th>\n",
       "      <th>...</th>\n",
       "      <th>hawker_nearest_distance</th>\n",
       "      <th>hawker_within_2km</th>\n",
       "      <th>hawker_food_stalls</th>\n",
       "      <th>hawker_market_stalls</th>\n",
       "      <th>mrt_nearest_distance</th>\n",
       "      <th>bus_stop_nearest_distance</th>\n",
       "      <th>pri_sch_nearest_distance</th>\n",
       "      <th>vacancy</th>\n",
       "      <th>sec_sch_nearest_dist</th>\n",
       "      <th>cutoff_point</th>\n",
       "    </tr>\n",
       "  </thead>\n",
       "  <tbody>\n",
       "    <tr>\n",
       "      <th>0</th>\n",
       "      <td>-0.54</td>\n",
       "      <td>-1.63</td>\n",
       "      <td>1.32</td>\n",
       "      <td>-0.05</td>\n",
       "      <td>0.45</td>\n",
       "      <td>-0.50</td>\n",
       "      <td>0.13</td>\n",
       "      <td>-0.02</td>\n",
       "      <td>-0.15</td>\n",
       "      <td>-0.57</td>\n",
       "      <td>...</td>\n",
       "      <td>-0.45</td>\n",
       "      <td>-0.70</td>\n",
       "      <td>0.38</td>\n",
       "      <td>1.16</td>\n",
       "      <td>-0.18</td>\n",
       "      <td>-0.71</td>\n",
       "      <td>0.13</td>\n",
       "      <td>2.05</td>\n",
       "      <td>-1.14</td>\n",
       "      <td>0.39</td>\n",
       "    </tr>\n",
       "    <tr>\n",
       "      <th>1</th>\n",
       "      <td>0.60</td>\n",
       "      <td>0.91</td>\n",
       "      <td>0.42</td>\n",
       "      <td>-0.59</td>\n",
       "      <td>-1.28</td>\n",
       "      <td>-0.18</td>\n",
       "      <td>-1.23</td>\n",
       "      <td>-0.02</td>\n",
       "      <td>-0.15</td>\n",
       "      <td>-0.57</td>\n",
       "      <td>...</td>\n",
       "      <td>0.88</td>\n",
       "      <td>-0.94</td>\n",
       "      <td>1.21</td>\n",
       "      <td>0.64</td>\n",
       "      <td>-1.38</td>\n",
       "      <td>-0.47</td>\n",
       "      <td>0.19</td>\n",
       "      <td>-0.58</td>\n",
       "      <td>0.74</td>\n",
       "      <td>-0.56</td>\n",
       "    </tr>\n",
       "    <tr>\n",
       "      <th>2</th>\n",
       "      <td>-1.20</td>\n",
       "      <td>-1.27</td>\n",
       "      <td>1.02</td>\n",
       "      <td>-0.05</td>\n",
       "      <td>1.03</td>\n",
       "      <td>-0.50</td>\n",
       "      <td>1.60</td>\n",
       "      <td>-0.02</td>\n",
       "      <td>-0.15</td>\n",
       "      <td>2.22</td>\n",
       "      <td>...</td>\n",
       "      <td>-0.95</td>\n",
       "      <td>1.80</td>\n",
       "      <td>0.07</td>\n",
       "      <td>0.75</td>\n",
       "      <td>-0.16</td>\n",
       "      <td>-0.52</td>\n",
       "      <td>-0.17</td>\n",
       "      <td>-1.08</td>\n",
       "      <td>-0.66</td>\n",
       "      <td>1.74</td>\n",
       "    </tr>\n",
       "    <tr>\n",
       "      <th>3</th>\n",
       "      <td>-0.01</td>\n",
       "      <td>0.18</td>\n",
       "      <td>1.02</td>\n",
       "      <td>-1.14</td>\n",
       "      <td>1.11</td>\n",
       "      <td>-0.18</td>\n",
       "      <td>-0.35</td>\n",
       "      <td>-0.02</td>\n",
       "      <td>-0.15</td>\n",
       "      <td>-0.57</td>\n",
       "      <td>...</td>\n",
       "      <td>-0.62</td>\n",
       "      <td>-0.45</td>\n",
       "      <td>0.17</td>\n",
       "      <td>0.97</td>\n",
       "      <td>0.82</td>\n",
       "      <td>-0.12</td>\n",
       "      <td>2.27</td>\n",
       "      <td>-0.08</td>\n",
       "      <td>-0.24</td>\n",
       "      <td>-1.11</td>\n",
       "    </tr>\n",
       "    <tr>\n",
       "      <th>4</th>\n",
       "      <td>0.23</td>\n",
       "      <td>-0.18</td>\n",
       "      <td>0.42</td>\n",
       "      <td>1.58</td>\n",
       "      <td>0.62</td>\n",
       "      <td>1.58</td>\n",
       "      <td>0.33</td>\n",
       "      <td>-0.02</td>\n",
       "      <td>-0.15</td>\n",
       "      <td>-0.57</td>\n",
       "      <td>...</td>\n",
       "      <td>-0.68</td>\n",
       "      <td>-0.45</td>\n",
       "      <td>0.59</td>\n",
       "      <td>0.52</td>\n",
       "      <td>0.52</td>\n",
       "      <td>-0.03</td>\n",
       "      <td>-0.36</td>\n",
       "      <td>-0.86</td>\n",
       "      <td>-0.94</td>\n",
       "      <td>0.64</td>\n",
       "    </tr>\n",
       "  </tbody>\n",
       "</table>\n",
       "<p>5 rows × 27 columns</p>\n",
       "</div>"
      ],
      "text/plain": [
       "   floor_area_sqm  tranc_year  tranc_month  mid_storey  hdb_age  \\\n",
       "0           -0.54       -1.63         1.32       -0.05     0.45   \n",
       "1            0.60        0.91         0.42       -0.59    -1.28   \n",
       "2           -1.20       -1.27         1.02       -0.05     1.03   \n",
       "3           -0.01        0.18         1.02       -1.14     1.11   \n",
       "4            0.23       -0.18         0.42        1.58     0.62   \n",
       "\n",
       "   max_floor_lvl  total_dwelling_units  1room_sold  2room_sold  3room_sold  \\\n",
       "0          -0.50                  0.13       -0.02       -0.15       -0.57   \n",
       "1          -0.18                 -1.23       -0.02       -0.15       -0.57   \n",
       "2          -0.50                  1.60       -0.02       -0.15        2.22   \n",
       "3          -0.18                 -0.35       -0.02       -0.15       -0.57   \n",
       "4           1.58                  0.33       -0.02       -0.15       -0.57   \n",
       "\n",
       "   ...  hawker_nearest_distance  hawker_within_2km  hawker_food_stalls  \\\n",
       "0  ...                    -0.45              -0.70                0.38   \n",
       "1  ...                     0.88              -0.94                1.21   \n",
       "2  ...                    -0.95               1.80                0.07   \n",
       "3  ...                    -0.62              -0.45                0.17   \n",
       "4  ...                    -0.68              -0.45                0.59   \n",
       "\n",
       "   hawker_market_stalls  mrt_nearest_distance  bus_stop_nearest_distance  \\\n",
       "0                  1.16                 -0.18                      -0.71   \n",
       "1                  0.64                 -1.38                      -0.47   \n",
       "2                  0.75                 -0.16                      -0.52   \n",
       "3                  0.97                  0.82                      -0.12   \n",
       "4                  0.52                  0.52                      -0.03   \n",
       "\n",
       "   pri_sch_nearest_distance  vacancy  sec_sch_nearest_dist  cutoff_point  \n",
       "0                      0.13     2.05                 -1.14          0.39  \n",
       "1                      0.19    -0.58                  0.74         -0.56  \n",
       "2                     -0.17    -1.08                 -0.66          1.74  \n",
       "3                      2.27    -0.08                 -0.24         -1.11  \n",
       "4                     -0.36    -0.86                 -0.94          0.64  \n",
       "\n",
       "[5 rows x 27 columns]"
      ]
     },
     "execution_count": 20,
     "metadata": {},
     "output_type": "execute_result"
    }
   ],
   "source": [
    "test_num.head()"
   ]
  },
  {
   "cell_type": "markdown",
   "id": "4af2c7f9-b06a-4608-95c8-bfbe7906db36",
   "metadata": {},
   "source": [
    "---\n",
    "#### OHE to categorical features"
   ]
  },
  {
   "cell_type": "code",
   "execution_count": 21,
   "id": "279bd174-18a6-4bef-ae94-46153a2a642e",
   "metadata": {},
   "outputs": [
    {
     "data": {
      "text/plain": [
       "['town',\n",
       " 'street_name',\n",
       " 'full_flat_type',\n",
       " 'planning_area',\n",
       " 'mrt_name',\n",
       " 'pri_sch_name',\n",
       " 'sec_sch_name',\n",
       " 'commercial',\n",
       " 'market_hawker',\n",
       " 'multistorey_carpark',\n",
       " 'precinct_pavilion',\n",
       " 'bus_interchange',\n",
       " 'mrt_interchange',\n",
       " 'pri_sch_affiliation',\n",
       " 'affiliation']"
      ]
     },
     "execution_count": 21,
     "metadata": {},
     "output_type": "execute_result"
    }
   ],
   "source": [
    "columns_cat"
   ]
  },
  {
   "cell_type": "code",
   "execution_count": 22,
   "id": "14af5fc4-6555-4012-985b-207ddaf99eb5",
   "metadata": {},
   "outputs": [],
   "source": [
    "X_train_cat = train[columns_cat]"
   ]
  },
  {
   "cell_type": "code",
   "execution_count": 23,
   "id": "0c0e6aa4-dddc-4051-8f47-4f9cb61e7f5f",
   "metadata": {},
   "outputs": [],
   "source": [
    "X_train_cat = pd.get_dummies(X_train_cat[columns_cat])"
   ]
  },
  {
   "cell_type": "code",
   "execution_count": 24,
   "id": "b93635b4-541e-442f-920c-04b8c5fa6ba6",
   "metadata": {},
   "outputs": [],
   "source": [
    "# Fit the encoder on the training data using the common columns\n",
    "test_cat = pd.get_dummies(test_cat[columns_cat])\n",
    "\n",
    "# Make sure the column names of the test data match the training data\n",
    "test_cat = test_cat.reindex(columns=X_train_cat.columns, fill_value=0)"
   ]
  },
  {
   "cell_type": "code",
   "execution_count": 25,
   "id": "3df39d5f-051c-44b7-8ef0-a9c0f3163ec6",
   "metadata": {},
   "outputs": [
    {
     "data": {
      "text/plain": [
       "(16737, 1060)"
      ]
     },
     "execution_count": 25,
     "metadata": {},
     "output_type": "execute_result"
    }
   ],
   "source": [
    "test_cat.shape"
   ]
  },
  {
   "cell_type": "markdown",
   "id": "f36b6c2a-126c-4696-a5db-fb103cb03af7",
   "metadata": {},
   "source": [
    "---\n",
    "#### Merging numerical and categorical dataframe"
   ]
  },
  {
   "cell_type": "code",
   "execution_count": 26,
   "id": "12064e22-98d3-458c-9b62-252a276ed03b",
   "metadata": {},
   "outputs": [],
   "source": [
    "#Retrieve final Z_train for use to instantiate model again in this notebook.\n",
    "# Combine Z_train and X_train_num along axis=1 (column-wise)\n",
    "Z_train = pd.concat([X_train_num, X_train_cat], axis=1)"
   ]
  },
  {
   "cell_type": "code",
   "execution_count": 27,
   "id": "1fa9a3e8-db29-4975-8339-00524269f2fa",
   "metadata": {},
   "outputs": [],
   "source": [
    "test_final = pd.concat([test_num, test_cat], axis=1)"
   ]
  },
  {
   "cell_type": "code",
   "execution_count": 28,
   "id": "3721d8c0-9f68-4fa4-b8dd-ca111e12608b",
   "metadata": {},
   "outputs": [
    {
     "name": "stdout",
     "output_type": "stream",
     "text": [
      "(16737, 1087)\n"
     ]
    },
    {
     "data": {
      "text/html": [
       "<div>\n",
       "<style scoped>\n",
       "    .dataframe tbody tr th:only-of-type {\n",
       "        vertical-align: middle;\n",
       "    }\n",
       "\n",
       "    .dataframe tbody tr th {\n",
       "        vertical-align: top;\n",
       "    }\n",
       "\n",
       "    .dataframe thead th {\n",
       "        text-align: right;\n",
       "    }\n",
       "</style>\n",
       "<table border=\"1\" class=\"dataframe\">\n",
       "  <thead>\n",
       "    <tr style=\"text-align: right;\">\n",
       "      <th></th>\n",
       "      <th>floor_area_sqm</th>\n",
       "      <th>tranc_year</th>\n",
       "      <th>tranc_month</th>\n",
       "      <th>mid_storey</th>\n",
       "      <th>hdb_age</th>\n",
       "      <th>max_floor_lvl</th>\n",
       "      <th>total_dwelling_units</th>\n",
       "      <th>1room_sold</th>\n",
       "      <th>2room_sold</th>\n",
       "      <th>3room_sold</th>\n",
       "      <th>...</th>\n",
       "      <th>sec_sch_name_Xinmin Secondary School</th>\n",
       "      <th>sec_sch_name_Yio Chu Kang Secondary School</th>\n",
       "      <th>sec_sch_name_Yishun Secondary School</th>\n",
       "      <th>sec_sch_name_Yishun Town Secondary School</th>\n",
       "      <th>sec_sch_name_Yuan Ching Secondary School</th>\n",
       "      <th>sec_sch_name_Yuhua Secondary School</th>\n",
       "      <th>sec_sch_name_Yusof Ishak Secondary School</th>\n",
       "      <th>sec_sch_name_Yuying Secondary School</th>\n",
       "      <th>sec_sch_name_Zhenghua Secondary School</th>\n",
       "      <th>sec_sch_name_Zhonghua Secondary School</th>\n",
       "    </tr>\n",
       "  </thead>\n",
       "  <tbody>\n",
       "    <tr>\n",
       "      <th>0</th>\n",
       "      <td>-0.54</td>\n",
       "      <td>-1.63</td>\n",
       "      <td>1.32</td>\n",
       "      <td>-0.05</td>\n",
       "      <td>0.45</td>\n",
       "      <td>-0.50</td>\n",
       "      <td>0.13</td>\n",
       "      <td>-0.02</td>\n",
       "      <td>-0.15</td>\n",
       "      <td>-0.57</td>\n",
       "      <td>...</td>\n",
       "      <td>0</td>\n",
       "      <td>0</td>\n",
       "      <td>0</td>\n",
       "      <td>0</td>\n",
       "      <td>0</td>\n",
       "      <td>0</td>\n",
       "      <td>0</td>\n",
       "      <td>0</td>\n",
       "      <td>0</td>\n",
       "      <td>0</td>\n",
       "    </tr>\n",
       "    <tr>\n",
       "      <th>1</th>\n",
       "      <td>0.60</td>\n",
       "      <td>0.91</td>\n",
       "      <td>0.42</td>\n",
       "      <td>-0.59</td>\n",
       "      <td>-1.28</td>\n",
       "      <td>-0.18</td>\n",
       "      <td>-1.23</td>\n",
       "      <td>-0.02</td>\n",
       "      <td>-0.15</td>\n",
       "      <td>-0.57</td>\n",
       "      <td>...</td>\n",
       "      <td>0</td>\n",
       "      <td>0</td>\n",
       "      <td>0</td>\n",
       "      <td>0</td>\n",
       "      <td>0</td>\n",
       "      <td>0</td>\n",
       "      <td>0</td>\n",
       "      <td>0</td>\n",
       "      <td>0</td>\n",
       "      <td>0</td>\n",
       "    </tr>\n",
       "    <tr>\n",
       "      <th>2</th>\n",
       "      <td>-1.20</td>\n",
       "      <td>-1.27</td>\n",
       "      <td>1.02</td>\n",
       "      <td>-0.05</td>\n",
       "      <td>1.03</td>\n",
       "      <td>-0.50</td>\n",
       "      <td>1.60</td>\n",
       "      <td>-0.02</td>\n",
       "      <td>-0.15</td>\n",
       "      <td>2.22</td>\n",
       "      <td>...</td>\n",
       "      <td>0</td>\n",
       "      <td>0</td>\n",
       "      <td>0</td>\n",
       "      <td>0</td>\n",
       "      <td>0</td>\n",
       "      <td>0</td>\n",
       "      <td>0</td>\n",
       "      <td>0</td>\n",
       "      <td>0</td>\n",
       "      <td>0</td>\n",
       "    </tr>\n",
       "    <tr>\n",
       "      <th>3</th>\n",
       "      <td>-0.01</td>\n",
       "      <td>0.18</td>\n",
       "      <td>1.02</td>\n",
       "      <td>-1.14</td>\n",
       "      <td>1.11</td>\n",
       "      <td>-0.18</td>\n",
       "      <td>-0.35</td>\n",
       "      <td>-0.02</td>\n",
       "      <td>-0.15</td>\n",
       "      <td>-0.57</td>\n",
       "      <td>...</td>\n",
       "      <td>0</td>\n",
       "      <td>0</td>\n",
       "      <td>0</td>\n",
       "      <td>0</td>\n",
       "      <td>0</td>\n",
       "      <td>0</td>\n",
       "      <td>0</td>\n",
       "      <td>0</td>\n",
       "      <td>0</td>\n",
       "      <td>0</td>\n",
       "    </tr>\n",
       "    <tr>\n",
       "      <th>4</th>\n",
       "      <td>0.23</td>\n",
       "      <td>-0.18</td>\n",
       "      <td>0.42</td>\n",
       "      <td>1.58</td>\n",
       "      <td>0.62</td>\n",
       "      <td>1.58</td>\n",
       "      <td>0.33</td>\n",
       "      <td>-0.02</td>\n",
       "      <td>-0.15</td>\n",
       "      <td>-0.57</td>\n",
       "      <td>...</td>\n",
       "      <td>0</td>\n",
       "      <td>0</td>\n",
       "      <td>0</td>\n",
       "      <td>0</td>\n",
       "      <td>0</td>\n",
       "      <td>0</td>\n",
       "      <td>0</td>\n",
       "      <td>0</td>\n",
       "      <td>0</td>\n",
       "      <td>0</td>\n",
       "    </tr>\n",
       "  </tbody>\n",
       "</table>\n",
       "<p>5 rows × 1087 columns</p>\n",
       "</div>"
      ],
      "text/plain": [
       "   floor_area_sqm  tranc_year  tranc_month  mid_storey  hdb_age  \\\n",
       "0           -0.54       -1.63         1.32       -0.05     0.45   \n",
       "1            0.60        0.91         0.42       -0.59    -1.28   \n",
       "2           -1.20       -1.27         1.02       -0.05     1.03   \n",
       "3           -0.01        0.18         1.02       -1.14     1.11   \n",
       "4            0.23       -0.18         0.42        1.58     0.62   \n",
       "\n",
       "   max_floor_lvl  total_dwelling_units  1room_sold  2room_sold  3room_sold  \\\n",
       "0          -0.50                  0.13       -0.02       -0.15       -0.57   \n",
       "1          -0.18                 -1.23       -0.02       -0.15       -0.57   \n",
       "2          -0.50                  1.60       -0.02       -0.15        2.22   \n",
       "3          -0.18                 -0.35       -0.02       -0.15       -0.57   \n",
       "4           1.58                  0.33       -0.02       -0.15       -0.57   \n",
       "\n",
       "   ...  sec_sch_name_Xinmin Secondary School  \\\n",
       "0  ...                                     0   \n",
       "1  ...                                     0   \n",
       "2  ...                                     0   \n",
       "3  ...                                     0   \n",
       "4  ...                                     0   \n",
       "\n",
       "   sec_sch_name_Yio Chu Kang Secondary School  \\\n",
       "0                                           0   \n",
       "1                                           0   \n",
       "2                                           0   \n",
       "3                                           0   \n",
       "4                                           0   \n",
       "\n",
       "   sec_sch_name_Yishun Secondary School  \\\n",
       "0                                     0   \n",
       "1                                     0   \n",
       "2                                     0   \n",
       "3                                     0   \n",
       "4                                     0   \n",
       "\n",
       "   sec_sch_name_Yishun Town Secondary School  \\\n",
       "0                                          0   \n",
       "1                                          0   \n",
       "2                                          0   \n",
       "3                                          0   \n",
       "4                                          0   \n",
       "\n",
       "   sec_sch_name_Yuan Ching Secondary School  \\\n",
       "0                                         0   \n",
       "1                                         0   \n",
       "2                                         0   \n",
       "3                                         0   \n",
       "4                                         0   \n",
       "\n",
       "   sec_sch_name_Yuhua Secondary School  \\\n",
       "0                                    0   \n",
       "1                                    0   \n",
       "2                                    0   \n",
       "3                                    0   \n",
       "4                                    0   \n",
       "\n",
       "   sec_sch_name_Yusof Ishak Secondary School  \\\n",
       "0                                          0   \n",
       "1                                          0   \n",
       "2                                          0   \n",
       "3                                          0   \n",
       "4                                          0   \n",
       "\n",
       "   sec_sch_name_Yuying Secondary School  \\\n",
       "0                                     0   \n",
       "1                                     0   \n",
       "2                                     0   \n",
       "3                                     0   \n",
       "4                                     0   \n",
       "\n",
       "   sec_sch_name_Zhenghua Secondary School  \\\n",
       "0                                       0   \n",
       "1                                       0   \n",
       "2                                       0   \n",
       "3                                       0   \n",
       "4                                       0   \n",
       "\n",
       "   sec_sch_name_Zhonghua Secondary School  \n",
       "0                                       0  \n",
       "1                                       0  \n",
       "2                                       0  \n",
       "3                                       0  \n",
       "4                                       0  \n",
       "\n",
       "[5 rows x 1087 columns]"
      ]
     },
     "execution_count": 28,
     "metadata": {},
     "output_type": "execute_result"
    }
   ],
   "source": [
    "print(test_final.shape)\n",
    "test_final.head()"
   ]
  },
  {
   "cell_type": "markdown",
   "id": "38fdf7a3-b325-4b70-aa9a-1f6a6a3b5c35",
   "metadata": {},
   "source": [
    "---\n",
    "## 4.2 Export Test Final"
   ]
  },
  {
   "cell_type": "code",
   "execution_count": 29,
   "id": "81fe98a0-6c69-4395-9df8-4313ae033f47",
   "metadata": {},
   "outputs": [],
   "source": [
    "import os # to work with files/directories\n",
    "if not os.path.exists('./data/output'): \n",
    "    os.makedirs('./data/output') \n",
    "\n",
    "# Save the DataFrame to a CSV file\n",
    "test_final.to_csv('./data/output/test_final.csv', index=False)"
   ]
  },
  {
   "cell_type": "code",
   "execution_count": 30,
   "id": "48283368-fd49-4265-8589-6cc7266b952a",
   "metadata": {},
   "outputs": [],
   "source": [
    "#Export pre-pickled dataframe\n",
    "pickle.dump(test_final, open('./pkl/test_final.pkl', 'wb'))"
   ]
  }
 ],
 "metadata": {
  "kernelspec": {
   "display_name": "Python 3 (ipykernel)",
   "language": "python",
   "name": "python3"
  },
  "language_info": {
   "codemirror_mode": {
    "name": "ipython",
    "version": 3
   },
   "file_extension": ".py",
   "mimetype": "text/x-python",
   "name": "python",
   "nbconvert_exporter": "python",
   "pygments_lexer": "ipython3",
   "version": "3.8.17"
  }
 },
 "nbformat": 4,
 "nbformat_minor": 5
}
